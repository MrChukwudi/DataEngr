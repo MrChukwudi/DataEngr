{
 "cells": [
  {
   "cell_type": "code",
   "execution_count": 1,
   "id": "6d06eef6",
   "metadata": {},
   "outputs": [],
   "source": [
    "# This will open the file content and convert it to a file object:\n",
    "order_file = open('./data/retail_db/orders/part-00000')"
   ]
  },
  {
   "cell_type": "code",
   "execution_count": 2,
   "id": "6f10c9bc",
   "metadata": {},
   "outputs": [],
   "source": [
    "#The read API reads file object contents into a string:\n",
    "\n",
    "order_file_str = order_file.read()"
   ]
  },
  {
   "cell_type": "code",
   "execution_count": 3,
   "id": "72bcdcf3",
   "metadata": {},
   "outputs": [
    {
     "data": {
      "text/plain": [
       "str"
      ]
     },
     "execution_count": 3,
     "metadata": {},
     "output_type": "execute_result"
    }
   ],
   "source": [
    "type(order_file_str)"
   ]
  },
  {
   "cell_type": "code",
   "execution_count": 4,
   "id": "50e9504d",
   "metadata": {},
   "outputs": [
    {
     "data": {
      "text/plain": [
       "_io.TextIOWrapper"
      ]
     },
     "execution_count": 4,
     "metadata": {},
     "output_type": "execute_result"
    }
   ],
   "source": [
    "type(order_file)"
   ]
  },
  {
   "cell_type": "code",
   "execution_count": 5,
   "id": "9b0bcb0c",
   "metadata": {},
   "outputs": [],
   "source": [
    "# When we read out CSV file into the string, it's usually a big string, having the tab character as seperator: .splitline() is how we convert this string to a List\n",
    "order_list = order_file_str.splitlines()"
   ]
  },
  {
   "cell_type": "code",
   "execution_count": 6,
   "id": "d7e6d352",
   "metadata": {},
   "outputs": [
    {
     "data": {
      "text/plain": [
       "68883"
      ]
     },
     "execution_count": 6,
     "metadata": {},
     "output_type": "execute_result"
    }
   ],
   "source": [
    "len(order_list)"
   ]
  },
  {
   "cell_type": "code",
   "execution_count": 7,
   "id": "84afbc0d",
   "metadata": {},
   "outputs": [
    {
     "data": {
      "text/plain": [
       "['1,2013-07-25 00:00:00.0,11599,CLOSED',\n",
       " '2,2013-07-25 00:00:00.0,256,PENDING_PAYMENT',\n",
       " '3,2013-07-25 00:00:00.0,12111,COMPLETE',\n",
       " '4,2013-07-25 00:00:00.0,8827,CLOSED',\n",
       " '5,2013-07-25 00:00:00.0,11318,COMPLETE',\n",
       " '6,2013-07-25 00:00:00.0,7130,COMPLETE',\n",
       " '7,2013-07-25 00:00:00.0,4530,COMPLETE',\n",
       " '8,2013-07-25 00:00:00.0,2911,PROCESSING',\n",
       " '9,2013-07-25 00:00:00.0,5657,PENDING_PAYMENT',\n",
       " '10,2013-07-25 00:00:00.0,5648,PENDING_PAYMENT']"
      ]
     },
     "execution_count": 7,
     "metadata": {},
     "output_type": "execute_result"
    }
   ],
   "source": [
    "# First 10 items:\n",
    "order_list[:10]"
   ]
  },
  {
   "cell_type": "code",
   "execution_count": 8,
   "id": "e1f01a75",
   "metadata": {},
   "outputs": [
    {
     "data": {
      "text/plain": [
       "['68874,2014-07-03 00:00:00.0,1601,COMPLETE',\n",
       " '68875,2014-07-04 00:00:00.0,10637,ON_HOLD',\n",
       " '68876,2014-07-06 00:00:00.0,4124,COMPLETE',\n",
       " '68877,2014-07-07 00:00:00.0,9692,ON_HOLD',\n",
       " '68878,2014-07-08 00:00:00.0,6753,COMPLETE',\n",
       " '68879,2014-07-09 00:00:00.0,778,COMPLETE',\n",
       " '68880,2014-07-13 00:00:00.0,1117,COMPLETE',\n",
       " '68881,2014-07-19 00:00:00.0,2518,PENDING_PAYMENT',\n",
       " '68882,2014-07-22 00:00:00.0,10000,ON_HOLD',\n",
       " '68883,2014-07-23 00:00:00.0,5533,COMPLETE']"
      ]
     },
     "execution_count": 8,
     "metadata": {},
     "output_type": "execute_result"
    }
   ],
   "source": [
    "# Last 10 items:\n",
    "order_list[-10:]"
   ]
  },
  {
   "cell_type": "code",
   "execution_count": 9,
   "id": "c1582fcc",
   "metadata": {},
   "outputs": [],
   "source": [
    "l = [1,2,3,4,5]"
   ]
  },
  {
   "cell_type": "code",
   "execution_count": 10,
   "id": "0dfc7fe1",
   "metadata": {},
   "outputs": [],
   "source": [
    "def sunN(n):\n",
    "    return ((n * (n -1))/2)\n"
   ]
  },
  {
   "cell_type": "code",
   "execution_count": 11,
   "id": "a14eda33",
   "metadata": {},
   "outputs": [],
   "source": [
    "res = []\n",
    "\n",
    "for i in l:\n",
    "    res.append(((i * (i -1))/2))\n",
    "\n",
    "\n",
    "    "
   ]
  },
  {
   "cell_type": "code",
   "execution_count": 12,
   "id": "a1beaadf",
   "metadata": {},
   "outputs": [
    {
     "data": {
      "text/plain": [
       "[0.0, 1.0, 3.0, 6.0, 10.0]"
      ]
     },
     "execution_count": 12,
     "metadata": {},
     "output_type": "execute_result"
    }
   ],
   "source": [
    "res"
   ]
  },
  {
   "cell_type": "code",
   "execution_count": 14,
   "id": "e52ff368",
   "metadata": {},
   "outputs": [],
   "source": [
    "ress = []\n",
    "\n",
    "for m in l:\n",
    "    ress.append(sunN(m))"
   ]
  },
  {
   "cell_type": "code",
   "execution_count": 15,
   "id": "20753815",
   "metadata": {},
   "outputs": [
    {
     "data": {
      "text/plain": [
       "[0.0, 1.0, 3.0, 6.0, 10.0]"
      ]
     },
     "execution_count": 15,
     "metadata": {},
     "output_type": "execute_result"
    }
   ],
   "source": [
    "ress"
   ]
  },
  {
   "cell_type": "code",
   "execution_count": 17,
   "id": "c2201629",
   "metadata": {},
   "outputs": [
    {
     "data": {
      "text/plain": [
       "[0.0, 1.0, 3.0, 6.0, 10.0]"
      ]
     },
     "execution_count": 17,
     "metadata": {},
     "output_type": "execute_result"
    }
   ],
   "source": [
    "[sunN(j) for j in l]"
   ]
  },
  {
   "cell_type": "code",
   "execution_count": 19,
   "id": "c53f6428",
   "metadata": {},
   "outputs": [],
   "source": [
    "#Lambda Functions:\n",
    "\n",
    "mun = lambda r: r**r "
   ]
  },
  {
   "cell_type": "code",
   "execution_count": 21,
   "id": "00d9b8ac",
   "metadata": {},
   "outputs": [
    {
     "data": {
      "text/plain": [
       "27"
      ]
     },
     "execution_count": 21,
     "metadata": {},
     "output_type": "execute_result"
    }
   ],
   "source": [
    "mun(3)"
   ]
  },
  {
   "cell_type": "code",
   "execution_count": 25,
   "id": "71d0b994",
   "metadata": {},
   "outputs": [],
   "source": [
    "## Using Map, we can apply a function to all items of an Iterable:\n",
    "# \n",
    "#map(function, iterable)\n",
    "\n",
    "map_obj = map(sunN, l)"
   ]
  },
  {
   "cell_type": "code",
   "execution_count": 26,
   "id": "b825081d",
   "metadata": {},
   "outputs": [
    {
     "data": {
      "text/plain": [
       "<map at 0x1073eaad0>"
      ]
     },
     "execution_count": 26,
     "metadata": {},
     "output_type": "execute_result"
    }
   ],
   "source": [
    "map_obj"
   ]
  },
  {
   "cell_type": "code",
   "execution_count": 27,
   "id": "342e5896",
   "metadata": {},
   "outputs": [
    {
     "data": {
      "text/plain": [
       "[0.0, 1.0, 3.0, 6.0, 10.0]"
      ]
     },
     "execution_count": 27,
     "metadata": {},
     "output_type": "execute_result"
    }
   ],
   "source": [
    "list(map_obj)"
   ]
  },
  {
   "cell_type": "code",
   "execution_count": 28,
   "id": "2eea50f7",
   "metadata": {},
   "outputs": [
    {
     "data": {
      "text/plain": [
       "()"
      ]
     },
     "execution_count": 28,
     "metadata": {},
     "output_type": "execute_result"
    }
   ],
   "source": [
    "tuple(map_obj)"
   ]
  },
  {
   "cell_type": "code",
   "execution_count": null,
   "id": "3279e49f",
   "metadata": {},
   "outputs": [],
   "source": []
  }
 ],
 "metadata": {
  "kernelspec": {
   "display_name": "itversity_venv",
   "language": "python",
   "name": "python3"
  },
  "language_info": {
   "codemirror_mode": {
    "name": "ipython",
    "version": 3
   },
   "file_extension": ".py",
   "mimetype": "text/x-python",
   "name": "python",
   "nbconvert_exporter": "python",
   "pygments_lexer": "ipython3",
   "version": "3.12.2"
  }
 },
 "nbformat": 4,
 "nbformat_minor": 5
}
