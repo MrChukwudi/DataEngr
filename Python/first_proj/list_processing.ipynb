{
 "cells": [
  {
   "cell_type": "markdown",
   "id": "058bcf71",
   "metadata": {},
   "source": [
    "Processing Python Lists\n",
    "\n",
    "Let us see how to process data in python lists using functions such as filter, map, sorted, etc. We can also use list comprehensions as alternative to map.\n",
    "\n",
    "1. Create Python list of strings.\n",
    "2. Filter for COMPLETE orders\n",
    "3. Get unique statuses (use map and set)\n",
    "4. Sort the data based on order customer id."
   ]
  },
  {
   "cell_type": "code",
   "execution_count": 1,
   "id": "36b5cc36",
   "metadata": {},
   "outputs": [],
   "source": [
    "orders = [\n",
    "    '1,2013-07-25 00:00:00.0,11599,CLOSED',\n",
    "    '2,2013-07-25 00:00:00.0,256,PENDING_PAYMENT',\n",
    "    '3,2013-07-25 00:00:00.0,12111,COMPLETE',\n",
    "    '4,2013-07-25 00:00:00.0,8827,CLOSED',\n",
    "    '5,2013-07-25 00:00:00.0,11318,COMPLETE',\n",
    "    '6,2013-07-25 00:00:00.0,7130,COMPLETE',\n",
    "    '7,2013-07-25 00:00:00.0,4530,COMPLETE',\n",
    "    '8,2013-07-25 00:00:00.0,2911,PROCESSING',\n",
    "    '9,2013-07-25 00:00:00.0,5657,PENDING_PAYMENT',\n",
    "    '10,2013-07-25 00:00:00.0,5648,PENDING_PAYMENT',\n",
    "    '11,2013-07-25 00:00:00.0,918,PAYMENT_REVIEW',\n",
    "    '12,2013-07-25 00:00:00.0,1837,CLOSED',\n",
    "    '13,2013-07-25 00:00:00.0,9149,PENDING_PAYMENT',\n",
    "    '14,2013-07-25 00:00:00.0,9842,PROCESSING',\n",
    "    '15,2013-07-25 00:00:00.0,2568,COMPLETE',\n",
    "    '16,2013-07-25 00:00:00.0,7276,PENDING_PAYMENT',\n",
    "    '17,2013-07-25 00:00:00.0,2667,COMPLETE',\n",
    "    '18,2013-07-25 00:00:00.0,1205,CLOSED',\n",
    "    '19,2013-07-25 00:00:00.0,9488,PENDING_PAYMENT',\n",
    "    '20,2013-07-25 00:00:00.0,9198,PROCESSING'\n",
    " ]"
   ]
  },
  {
   "cell_type": "code",
   "execution_count": 8,
   "id": "ab8e895a",
   "metadata": {},
   "outputs": [],
   "source": [
    "def splitFilter(aList):\n",
    "    new_list = []\n",
    "    for item in aList:\n",
    "        if item.split(',')[3] == 'COMPLETE':\n",
    "            new_list.append(item)\n",
    "    return new_list"
   ]
  },
  {
   "cell_type": "code",
   "execution_count": 46,
   "id": "e2041230",
   "metadata": {},
   "outputs": [],
   "source": [
    "my_orders = splitFilter(orders)"
   ]
  },
  {
   "cell_type": "code",
   "execution_count": 48,
   "id": "93de0b83",
   "metadata": {},
   "outputs": [
    {
     "data": {
      "text/plain": [
       "['3,2013-07-25 00:00:00.0,12111,COMPLETE',\n",
       " '5,2013-07-25 00:00:00.0,11318,COMPLETE',\n",
       " '6,2013-07-25 00:00:00.0,7130,COMPLETE',\n",
       " '7,2013-07-25 00:00:00.0,4530,COMPLETE',\n",
       " '15,2013-07-25 00:00:00.0,2568,COMPLETE',\n",
       " '17,2013-07-25 00:00:00.0,2667,COMPLETE']"
      ]
     },
     "execution_count": 48,
     "metadata": {},
     "output_type": "execute_result"
    }
   ],
   "source": [
    "my_orders"
   ]
  },
  {
   "cell_type": "code",
   "execution_count": null,
   "id": "d879108d",
   "metadata": {},
   "outputs": [],
   "source": [
    "# Sorting my Order List in Place:\n",
    "\n",
    "sorted_l = my_orders.sort(key = lambda ord: int(ord.split(',')[2]))"
   ]
  },
  {
   "cell_type": "code",
   "execution_count": 34,
   "id": "b1996a33",
   "metadata": {},
   "outputs": [
    {
     "data": {
      "text/plain": [
       "['15,2013-07-25 00:00:00.0,2568,COMPLETE',\n",
       " '17,2013-07-25 00:00:00.0,2667,COMPLETE',\n",
       " '7,2013-07-25 00:00:00.0,4530,COMPLETE',\n",
       " '6,2013-07-25 00:00:00.0,7130,COMPLETE',\n",
       " '5,2013-07-25 00:00:00.0,11318,COMPLETE',\n",
       " '3,2013-07-25 00:00:00.0,12111,COMPLETE']"
      ]
     },
     "execution_count": 34,
     "metadata": {},
     "output_type": "execute_result"
    }
   ],
   "source": [
    "my_orders"
   ]
  },
  {
   "cell_type": "markdown",
   "id": "7707de4b",
   "metadata": {},
   "source": [
    "# Doing it the Shorter Way with filter"
   ]
  },
  {
   "cell_type": "markdown",
   "id": "3a1aa7f9",
   "metadata": {},
   "source": []
  },
  {
   "cell_type": "code",
   "execution_count": 49,
   "id": "24f3ab4b",
   "metadata": {},
   "outputs": [],
   "source": [
    "#   Shorter form: Using filter()\n",
    "\n",
    "news_l = filter(lambda order: order.split(',')[3] == 'COMPLETE', orders)"
   ]
  },
  {
   "cell_type": "code",
   "execution_count": 50,
   "id": "6de5ffbd",
   "metadata": {},
   "outputs": [
    {
     "data": {
      "text/plain": [
       "['3,2013-07-25 00:00:00.0,12111,COMPLETE',\n",
       " '5,2013-07-25 00:00:00.0,11318,COMPLETE',\n",
       " '6,2013-07-25 00:00:00.0,7130,COMPLETE',\n",
       " '7,2013-07-25 00:00:00.0,4530,COMPLETE',\n",
       " '15,2013-07-25 00:00:00.0,2568,COMPLETE',\n",
       " '17,2013-07-25 00:00:00.0,2667,COMPLETE']"
      ]
     },
     "execution_count": 50,
     "metadata": {},
     "output_type": "execute_result"
    }
   ],
   "source": [
    "list(news_l)"
   ]
  },
  {
   "cell_type": "code",
   "execution_count": 51,
   "id": "b3bdbd88",
   "metadata": {},
   "outputs": [],
   "source": [
    "news_l_list = list(news_l)"
   ]
  },
  {
   "cell_type": "code",
   "execution_count": 52,
   "id": "ec68d577",
   "metadata": {},
   "outputs": [],
   "source": [
    "# To Sort this:\n",
    "sorted_list = news_l_list.sort(key = lambda order: order.split(',')[2])"
   ]
  },
  {
   "cell_type": "code",
   "execution_count": 55,
   "id": "679ef53a",
   "metadata": {},
   "outputs": [
    {
     "data": {
      "text/plain": [
       "['1,2013-07-25 00:00:00.0,11599,CLOSED',\n",
       " '2,2013-07-25 00:00:00.0,256,PENDING_PAYMENT',\n",
       " '3,2013-07-25 00:00:00.0,12111,COMPLETE',\n",
       " '4,2013-07-25 00:00:00.0,8827,CLOSED',\n",
       " '5,2013-07-25 00:00:00.0,11318,COMPLETE',\n",
       " '6,2013-07-25 00:00:00.0,7130,COMPLETE',\n",
       " '7,2013-07-25 00:00:00.0,4530,COMPLETE',\n",
       " '8,2013-07-25 00:00:00.0,2911,PROCESSING',\n",
       " '9,2013-07-25 00:00:00.0,5657,PENDING_PAYMENT',\n",
       " '10,2013-07-25 00:00:00.0,5648,PENDING_PAYMENT',\n",
       " '11,2013-07-25 00:00:00.0,918,PAYMENT_REVIEW',\n",
       " '12,2013-07-25 00:00:00.0,1837,CLOSED',\n",
       " '13,2013-07-25 00:00:00.0,9149,PENDING_PAYMENT',\n",
       " '14,2013-07-25 00:00:00.0,9842,PROCESSING',\n",
       " '15,2013-07-25 00:00:00.0,2568,COMPLETE',\n",
       " '16,2013-07-25 00:00:00.0,7276,PENDING_PAYMENT',\n",
       " '17,2013-07-25 00:00:00.0,2667,COMPLETE',\n",
       " '18,2013-07-25 00:00:00.0,1205,CLOSED',\n",
       " '19,2013-07-25 00:00:00.0,9488,PENDING_PAYMENT',\n",
       " '20,2013-07-25 00:00:00.0,9198,PROCESSING']"
      ]
     },
     "execution_count": 55,
     "metadata": {},
     "output_type": "execute_result"
    }
   ],
   "source": [
    "orders"
   ]
  },
  {
   "cell_type": "code",
   "execution_count": 67,
   "id": "9f518131",
   "metadata": {},
   "outputs": [],
   "source": [
    "def retStat(ord):\n",
    "    stat = []\n",
    "    for item in ord:\n",
    "        if item.split(',')[3] == 'COMPLETE' or item.split(',')[3] == 'CLOSED':\n",
    "            stat.append(item.split(',')[3])\n",
    "    return stat\n",
    "\n"
   ]
  },
  {
   "cell_type": "code",
   "execution_count": 68,
   "id": "148b5e2e",
   "metadata": {},
   "outputs": [
    {
     "data": {
      "text/plain": [
       "['CLOSED',\n",
       " 'COMPLETE',\n",
       " 'CLOSED',\n",
       " 'COMPLETE',\n",
       " 'COMPLETE',\n",
       " 'COMPLETE',\n",
       " 'CLOSED',\n",
       " 'COMPLETE',\n",
       " 'COMPLETE',\n",
       " 'CLOSED']"
      ]
     },
     "execution_count": 68,
     "metadata": {},
     "output_type": "execute_result"
    }
   ],
   "source": [
    "retStat(orders)"
   ]
  },
  {
   "cell_type": "code",
   "execution_count": 70,
   "id": "3fe2a928",
   "metadata": {},
   "outputs": [
    {
     "data": {
      "text/plain": [
       "<map at 0x10804e650>"
      ]
     },
     "execution_count": 70,
     "metadata": {},
     "output_type": "execute_result"
    }
   ],
   "source": [
    "map(lambda ord: ord.split(',')[3], orders)"
   ]
  },
  {
   "cell_type": "code",
   "execution_count": null,
   "id": "dc253539",
   "metadata": {},
   "outputs": [],
   "source": []
  }
 ],
 "metadata": {
  "kernelspec": {
   "display_name": "itversity_venv",
   "language": "python",
   "name": "python3"
  },
  "language_info": {
   "codemirror_mode": {
    "name": "ipython",
    "version": 3
   },
   "file_extension": ".py",
   "mimetype": "text/x-python",
   "name": "python",
   "nbconvert_exporter": "python",
   "pygments_lexer": "ipython3",
   "version": "3.12.2"
  }
 },
 "nbformat": 4,
 "nbformat_minor": 5
}
